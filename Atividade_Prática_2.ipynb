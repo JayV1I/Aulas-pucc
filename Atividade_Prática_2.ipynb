{
  "nbformat": 4,
  "nbformat_minor": 0,
  "metadata": {
    "colab": {
      "provenance": [],
      "include_colab_link": true
    },
    "kernelspec": {
      "name": "python3",
      "display_name": "Python 3"
    },
    "language_info": {
      "name": "python"
    }
  },
  "cells": [
    {
      "cell_type": "markdown",
      "metadata": {
        "id": "view-in-github",
        "colab_type": "text"
      },
      "source": [
        "<a href=\"https://colab.research.google.com/github/JayV1I/Aulas-pucc/blob/main/Atividade_Pr%C3%A1tica_2.ipynb\" target=\"_parent\"><img src=\"https://colab.research.google.com/assets/colab-badge.svg\" alt=\"Open In Colab\"/></a>"
      ]
    },
    {
      "cell_type": "markdown",
      "source": [
        "Nome/RA:"
      ],
      "metadata": {
        "id": "aLupui9VhRzR"
      }
    },
    {
      "cell_type": "markdown",
      "source": [
        "# Exercício 1) Considere as amostras com 8 observações e 3 variáveis apresentadas a seguir:\n",
        "\n",
        "$\\begin{array}{ccc}  3 & 5 & 6 & 4 & 8 & 9 & 6 & 7 \\\\  6 & 11 & 11 & 9 & 15 & 16 & 10 & 12 \\\\  14 & 9 & 9 & 13 & 2 & 2 & 9 & 5 \\\\   \\end{array}$"
      ],
      "metadata": {
        "id": "lCA6OF1Hui4p"
      }
    },
    {
      "cell_type": "markdown",
      "source": [
        "a) Construa o gráfico de dispersão dos pontos das variáveis $x_1$ e $x_2$, $x_1$ e $x_3$, $x_2$ e $x_3$.\n",
        "Comente sobre sua aparência."
      ],
      "metadata": {
        "id": "iUDsoeRhvXki"
      }
    },
    {
      "cell_type": "markdown",
      "source": [
        "b) Calcule: $\\bar{X}$ , S e R e interprete os valores em R."
      ],
      "metadata": {
        "id": "5vtQpEb_vabL"
      }
    },
    {
      "cell_type": "markdown",
      "source": [
        "# Exercício 2) Considere o DataSet Índice Mineiro de Responsabilidade Social"
      ],
      "metadata": {
        "id": "BF7yUTMTe461"
      }
    },
    {
      "cell_type": "markdown",
      "source": [
        "a) Considere a microrregião de Patrocínio. Analise a distância dos municipios considerando os índices de mortalidade (ou seja, variáveis \"tx_mort_acid\", \"tx_mort_hom\", \"tx_mort_mama\", \"tx_mort_inf\") e determine os municipios mais próximos e os mais distantes.\n",
        "\n",
        "Escolha uma das distâncias vistas em aula para realizar os cálculos. Justifique sua escolha."
      ],
      "metadata": {
        "id": "2C0XM0NKe8rF"
      }
    },
    {
      "cell_type": "markdown",
      "source": [
        "b) Refaça o experimento anterior para os atributos de escolarização (ou seja, as variáveis \"prop_fund\", \"perc_med\")\n",
        "\n",
        "Escolha uma das distâncias vistas em aula para realizar os cálculos. Justifique sua escolha."
      ],
      "metadata": {
        "id": "IPWCgqGUfwEv"
      }
    },
    {
      "cell_type": "markdown",
      "source": [
        "c) Escolha uma nova microrregião e utilizando a distância de Mahalanobis analise a distância dos municípios considerando os índices de mortalidade (ou seja, variáveis \"tx_mort_acid\", \"tx_mort_hom\", \"tx_mort_mama\", \"tx_mort_inf\") e determine os mais próximas e as mais distantes."
      ],
      "metadata": {
        "id": "QBO3lp-AgB7I"
      }
    },
    {
      "cell_type": "code",
      "source": [
        "import numpy as np\n",
        "import matplotlib.pyplot as plt\n",
        "import seaborn as sns\n",
        "import pandas as pd\n",
        "\n",
        "data = np.array([\n",
        "    [3, 6, 1],\n",
        "    [4, 5, 1],\n",
        "    [1, 9, 6],\n",
        "    [1, 9, 4],\n",
        "    [1, 3, 8],\n",
        "    [1, 5, 2],\n",
        "    [9, 1, 6],\n",
        "    [2, 5, 6]\n",
        "])\n",
        "\n",
        "df = pd.DataFrame(data, columns=[\"x1\", \"x2\", \"x3\"])\n",
        "\n",
        "sns.pairplot(df)\n",
        "plt.show()\n",
        "\n",
        "mean_values = df.mean()\n",
        "\n",
        "cov_matrix = df.cov()\n",
        "\n",
        "corr_matrix = df.corr()\n",
        "\n",
        "mean_values, cov_matrix, corr_matrix\n"
      ],
      "metadata": {
        "colab": {
          "base_uri": "https://localhost:8080/",
          "height": 966
        },
        "id": "IrO4rKI4fUJu",
        "outputId": "f72ab00f-1faf-4204-9175-0531e8e9315c"
      },
      "execution_count": 2,
      "outputs": [
        {
          "output_type": "display_data",
          "data": {
            "text/plain": [
              "<Figure size 750x750 with 12 Axes>"
            ],
            "image/png": "[encoded data removed]"
          },
          "metadata": {}
        },
        {
          "output_type": "execute_result",
          "data": {
            "text/plain": [
              "(x1    2.750\n",
              " x2    5.375\n",
              " x3    4.250\n",
              " dtype: float64,\n",
              "           x1        x2        x3\n",
              " x1  7.642857 -5.035714 -0.071429\n",
              " x2 -5.035714  7.410714 -1.678571\n",
              " x3 -0.071429 -1.678571  7.071429,\n",
              "           x1        x2        x3\n",
              " x1  1.000000 -0.669119 -0.009716\n",
              " x2 -0.669119  1.000000 -0.231876\n",
              " x3 -0.009716 -0.231876  1.000000)"
            ]
          },
          "metadata": {},
          "execution_count": 2
        }
      ]
    },
    {
      "cell_type": "markdown",
      "source": [
        "x1 e 𝑥2x2:\n",
        " parece haver uma correlação negativa.\n",
        "\n",
        "𝑥1x1 e\n",
        "𝑥3x3:\n",
        "não apresentam uma relação clara.\n",
        "\n",
        "𝑥2x2 e\n",
        "𝑥3x3:\n",
        "possível correlação negativa fraca.\n",
        "\n",
        "\n",
        "---\n",
        "\n",
        "\n",
        "\n"
      ],
      "metadata": {
        "id": "niUPZLOrf7YG"
      }
    },
    {
      "cell_type": "code",
      "source": [
        "plt.figure(figsize=(5, 4))\n",
        "sns.scatterplot(x=df[\"x1\"], y=df[\"x2\"])\n",
        "plt.xlabel(\"x1\")\n",
        "plt.ylabel(\"x2\")\n",
        "plt.title(\"Gráfico de Dispersão: x1 vs x2\")\n",
        "plt.show()\n",
        "\n",
        "plt.figure(figsize=(5, 4))\n",
        "sns.scatterplot(x=df[\"x1\"], y=df[\"x3\"])\n",
        "plt.xlabel(\"x1\")\n",
        "plt.ylabel(\"x3\")\n",
        "plt.title(\"Gráfico de Dispersão: x1 vs x3\")\n",
        "plt.show()\n",
        "\n",
        "plt.figure(figsize=(5, 4))\n",
        "sns.scatterplot(x=df[\"x2\"], y=df[\"x3\"])\n",
        "plt.xlabel(\"x2\")\n",
        "plt.ylabel(\"x3\")\n",
        "plt.title(\"Gráfico de Dispersão: x2 vs x3\")\n",
        "plt.show()\n"
      ],
      "metadata": {
        "colab": {
          "base_uri": "https://localhost:8080/",
          "height": 1000
        },
        "id": "DKktgZGZg3Lm",
        "outputId": "550d10b0-9175-461e-ecaf-fd8d96e8cedf"
      },
      "execution_count": 5,
      "outputs": [
        {
          "output_type": "display_data",
          "data": {
            "text/plain": [
              "<Figure size 500x400 with 1 Axes>"
            ],
            "image/png": "[encoded data removed]"
          },
          "metadata": {}
        },
        {
          "output_type": "display_data",
          "data": {
            "text/plain": [
              "<Figure size 500x400 with 1 Axes>"
            ],
            "image/png": "[encoded data removed]"
          },
          "metadata": {}
        },
        {
          "output_type": "display_data",
          "data": {
            "text/plain": [
              "<Figure size 500x400 with 1 Axes>"
            ],
            "image/png": "[encoded data removed]"
          },
          "metadata": {}
        }
      ]
    },
    {
      "cell_type": "markdown",
      "source": [
        "***exercícios 2)***"
      ],
      "metadata": {
        "id": "K8Mk-5fm1QXb"
      }
    },
    {
      "cell_type": "markdown",
      "source": [
        "***A)A distância de Mahalanobis é a escolha ideal para a questão pois:***\n",
        "\n",
        "Lida com variáveis em escalas diferentes.\n",
        "\n",
        "Considera a correlação entre as variáveis.\n",
        "\n",
        "É robusta e adequada para dados multivariados."
      ],
      "metadata": {
        "id": "IYNmfeiB3asT"
      }
    },
    {
      "cell_type": "code",
      "source": [
        "from scipy.spatial.distance import pdist, squareform\n",
        "\n",
        "dados = pd.read_csv(\"/content/imrs.csv\")\n",
        "\n",
        "patrocinio = dados[dados[\"nome_micro\"] == \"Patrocínio\"]\n",
        "\n",
        "mortalidade = patrocinio[[\"tx_mort_acid_15_29\", \"tx_mort_hom_15_29\", \"tx_mort_mama\", \"tx_mort_inf\"]]\n",
        "\n",
        "dist_euclidiana = pdist(mortalidade, metric=\"euclidean\")\n",
        "dist_matrix = squareform(dist_euclidiana)\n",
        "\n",
        "print(\"Matriz de distância euclidiana:\")\n",
        "print(dist_matrix)\n",
        "\n",
        "min_dist = np.min(dist_matrix[dist_matrix > 0])\n",
        "max_dist = np.max(dist_matrix)\n",
        "\n",
        "print(f\"\\n Menor distância: {min_dist}\")\n",
        "print(f\"Maior distância: {max_dist}\")"
      ],
      "metadata": {
        "colab": {
          "base_uri": "https://localhost:8080/"
        },
        "id": "QxFahXmM1UL7",
        "outputId": "0a46b574-b991-46e5-a4bb-5f38375a46d0"
      },
      "execution_count": 18,
      "outputs": [
        {
          "output_type": "stream",
          "name": "stdout",
          "text": [
            "Matriz de distância euclidiana:\n",
            "[[  0.          40.52749931  36.46       187.22650587  97.79699433\n",
            "   66.53        69.78068071  49.44519694  84.56595887  66.53\n",
            "   68.08965413]\n",
            " [ 40.52749931   0.          74.70045649 215.77934169 130.26590767\n",
            "   36.1823562   34.84576588  11.90067645  54.22519156  36.1823562\n",
            "   33.89334153]\n",
            " [ 36.46        74.70045649   0.         155.42628124  64.57832221\n",
            "  102.99       105.11918284  82.12302174 110.99536477 102.99\n",
            "  104.00432779]\n",
            " [187.22650587 215.77934169 155.42628124   0.          90.9215596\n",
            "  248.57362089 242.32984649 221.00060679 241.17040677 248.57362089\n",
            "  244.09813948]\n",
            " [ 97.79699433 130.26590767  64.57832221  90.9215596    0.\n",
            "  162.0451326  159.15038957 136.4323488  160.50038598 162.0451326\n",
            "  159.76090667]\n",
            " [ 66.53        36.1823562  102.99       248.57362089 162.0451326\n",
            "    0.          21.05        38.09901049  67.61681226   0.\n",
            "   14.49      ]\n",
            " [ 69.78068071  34.84576588 105.11918284 242.32984649 159.15038957\n",
            "   21.05         0.          36.19209997  67.72413012  21.05\n",
            "    6.56      ]\n",
            " [ 49.44519694  11.90067645  82.12302174 221.00060679 136.4323488\n",
            "   38.09901049  36.19209997   0.          42.91209037  38.09901049\n",
            "   35.48186156]\n",
            " [ 84.56595887  54.22519156 110.99536477 241.17040677 160.50038598\n",
            "   67.61681226  67.72413012  42.91209037   0.          67.61681226\n",
            "   66.98490128]\n",
            " [ 66.53        36.1823562  102.99       248.57362089 162.0451326\n",
            "    0.          21.05        38.09901049  67.61681226   0.\n",
            "   14.49      ]\n",
            " [ 68.08965413  33.89334153 104.00432779 244.09813948 159.76090667\n",
            "   14.49         6.56        35.48186156  66.98490128  14.49\n",
            "    0.        ]]\n",
            "\n",
            " Menor distância: 6.5600000000000005\n",
            "Maior distância: 248.57362088524195\n"
          ]
        }
      ]
    },
    {
      "cell_type": "markdown",
      "source": [
        "***b) Calcular a distância euclidiana:***\n",
        "\n",
        "\n",
        "A distância euclidiana entre dois pontos\n",
        "i\n",
        "i e\n",
        "j\n",
        "j\n",
        "A distância euclidiana é simples e amplamente utilizada para dados numéricos.\n",
        "\n",
        "É adequada quando as variáveis estão na mesma escala (ou foram padronizadas) e vão de 0 até 1"
      ],
      "metadata": {
        "id": "10Kj0QVa1tOD"
      }
    },
    {
      "cell_type": "code",
      "source": [
        "\n",
        "escolarizacao = patrocinio[[\"prop_fund_25m\", \"perc_med_25m\"]]\n",
        "\n",
        "dist_euclidiana_escolarizacao = pdist(escolarizacao, metric=\"euclidean\")\n",
        "dist_matrix_escolarizacao = squareform(dist_euclidiana_escolarizacao)\n",
        "\n",
        "print(\"Matriz de distância euclidiana (escolarização):\")\n",
        "print(dist_matrix_escolarizacao)\n",
        "\n",
        "min_dist_escolarizacao = np.min(dist_matrix_escolarizacao[dist_matrix_escolarizacao > 0])\n",
        "max_dist_escolarizacao = np.max(dist_matrix_escolarizacao)\n",
        "\n",
        "print(f\"\\n Menor distância (escolarização): {min_dist_escolarizacao}\")\n",
        "print(f\"Maior distância (escolarização): {max_dist_escolarizacao}\")"
      ],
      "metadata": {
        "colab": {
          "base_uri": "https://localhost:8080/"
        },
        "id": "47eD706F1syr",
        "outputId": "dfaea9f4-313c-432f-d906-7c0db25e8bda"
      },
      "execution_count": 15,
      "outputs": [
        {
          "output_type": "stream",
          "name": "stdout",
          "text": [
            "Matriz de distância euclidiana (escolarização):\n",
            "[[ 0.          7.54069625  5.33877327  2.00359677  6.08739682 15.94073085\n",
            "   5.33689985  8.29231572 15.36522047  8.66741599  3.85591753]\n",
            " [ 7.54069625  0.          6.42958786  8.06863681  1.77654158  8.82498725\n",
            "   3.66436898  2.71064568  8.84692602  2.33452351  5.17014507]\n",
            " [ 5.33877327  6.42958786  0.          4.05177739  4.71581382 15.07562271\n",
            "   2.7784888   8.69252552 15.27064177  8.60706686  2.02869416]\n",
            " [ 2.00359677  8.06863681  4.05177739  0.          6.38839573 16.80096723\n",
            "   5.06565889  9.37341453 16.46306168  9.61607508  3.29607342]\n",
            " [ 6.08739682  1.77654158  4.71581382  6.38839573  0.         10.59641921\n",
            "   1.93775643  4.04411919 10.60181117  3.89539472  3.39689564]\n",
            " [15.94073085  8.82498725 15.07562271 16.80096723 10.59641921  0.\n",
            "  12.40557939  7.70833315  2.24162887  7.27367857 13.99326981]\n",
            " [ 5.33689985  3.66436898  2.7784888   5.06565889  1.93775643 12.40557939\n",
            "   0.          5.9464275  12.5112949   5.83177503  1.78538511]\n",
            " [ 8.29231572  2.71064568  8.69252552  9.37341453  4.04411919  7.70833315\n",
            "   5.9464275   0.          7.10017605  0.75471849  7.07019095]\n",
            " [15.36522047  8.84692602 15.27064177 16.46306168 10.60181117  2.24162887\n",
            "  12.5112949   7.10017605  0.          6.86950508 13.93779394]\n",
            " [ 8.66741599  2.33452351  8.60706686  9.61607508  3.89539472  7.27367857\n",
            "   5.83177503  0.75471849  6.86950508  0.          7.10945849]\n",
            " [ 3.85591753  5.17014507  2.02869416  3.29607342  3.39689564 13.99326981\n",
            "   1.78538511  7.07019095 13.93779394  7.10945849  0.        ]]\n",
            "\n",
            " Menor distância (escolarização): 0.7547184905645281\n",
            "Maior distância (escolarização): 16.800967234061257\n"
          ]
        }
      ]
    },
    {
      "cell_type": "markdown",
      "source": [
        "***C) Distancia de Mahalanobis. Exemplo escolhido, Uberlandia***"
      ],
      "metadata": {
        "id": "cnb-2t4K1yeT"
      }
    },
    {
      "source": [
        "from scipy.spatial.distance import mahalanobis\n",
        "\n",
        "#(Uberlândia)\n",
        "uberlandia = dados[dados[\"nome_micro\"] == \"Uberlândia\"]\n",
        "\n",
        "mortalidade_uberlandia = uberlandia[[\"tx_mort_acid_15_29\", \"tx_mort_hom_15_29\", \"tx_mort_mama\", \"tx_mort_inf\"]]\n",
        "\n",
        "cov_matrix = np.cov(mortalidade_uberlandia, rowvar=False)\n",
        "mean_values = np.mean(mortalidade_uberlandia, axis=0)\n",
        "#(Mahalanobis)\n",
        "def mahalanobis_distance(x, mean, cov):\n",
        "    return np.sqrt((x - mean).T @ np.linalg.inv(cov) @ (x - mean))\n",
        "\n",
        "n = mortalidade_uberlandia.shape[0]\n",
        "\n",
        "dist_mahalanobis = np.zeros((n, n))\n",
        "\n",
        "for i in range(n):\n",
        "    for j in range(n):\n",
        "        dist_mahalanobis[i, j] = mahalanobis_distance(\n",
        "            mortalidade_uberlandia.iloc[i], mortalidade_uberlandia.iloc[j], cov_matrix\n",
        "        )\n",
        "\n",
        "print(\"Matriz de distância de Mahalanobis:\")\n",
        "print(dist_mahalanobis)\n",
        "\n",
        "min_dist_mahalanobis = np.min(dist_mahalanobis[dist_mahalanobis > 0])\n",
        "max_dist_mahalanobis = np.max(dist_mahalanobis)\n",
        "\n",
        "print(f\"Menor distância de Mahalanobis: {min_dist_mahalanobis}\")\n",
        "print(f\"Maior distância de Mahalanobis: {max_dist_mahalanobis}\")"
      ],
      "cell_type": "code",
      "metadata": {
        "colab": {
          "base_uri": "https://localhost:8080/"
        },
        "id": "6ucyNdgl2f3j",
        "outputId": "119d6aed-9f70-4a88-df32-1256b937c463"
      },
      "execution_count": 14,
      "outputs": [
        {
          "output_type": "stream",
          "name": "stdout",
          "text": [
            "Matriz de distância de Mahalanobis:\n",
            "[[0.         2.73431409 3.58272817 2.96730194 2.7215271  3.6233871\n",
            "  0.36021156 2.92428145 2.47529411 2.85051618]\n",
            " [2.73431409 0.         3.47879752 0.73878803 0.84858015 2.96542403\n",
            "  2.54890025 2.49586408 1.25115685 2.87183862]\n",
            " [3.58272817 3.47879752 0.         3.68164696 2.91233332 4.15408568\n",
            "  3.63825464 3.29850244 3.271071   3.79124582]\n",
            " [2.96730194 0.73878803 3.68164696 0.         0.76931364 3.70421206\n",
            "  2.75151595 2.76624882 1.46924645 3.08098596]\n",
            " [2.7215271  0.84858015 2.91233332 0.76931364 0.         3.49562726\n",
            "  2.55231589 2.46701272 1.30497245 2.87609472]\n",
            " [3.6233871  2.96542403 4.15408568 3.70421206 3.49562726 0.\n",
            "  3.62915001 3.39159765 3.18881441 3.77288171]\n",
            " [0.36021156 2.54890025 3.63825464 2.75151595 2.55231589 3.62915001\n",
            "  0.         3.04321388 2.43444003 3.00419138]\n",
            " [2.92428145 2.49586408 3.29850244 2.76624882 2.46701272 3.39159765\n",
            "  3.04321388 0.         1.31916504 0.70197689]\n",
            " [2.47529411 1.25115685 3.271071   1.46924645 1.30497245 3.18881441\n",
            "  2.43444003 1.31916504 0.         1.65075009]\n",
            " [2.85051618 2.87183862 3.79124582 3.08098596 2.87609472 3.77288171\n",
            "  3.00419138 0.70197689 1.65075009 0.        ]]\n",
            "Menor distância de Mahalanobis: 0.36021155642418035\n",
            "Maior distância de Mahalanobis: 4.154085683040135\n"
          ]
        }
      ]
    },
    {
      "cell_type": "code",
      "source": [],
      "metadata": {
        "id": "3zzsOvKE2hor"
      },
      "execution_count": null,
      "outputs": []
    }
  ]
}